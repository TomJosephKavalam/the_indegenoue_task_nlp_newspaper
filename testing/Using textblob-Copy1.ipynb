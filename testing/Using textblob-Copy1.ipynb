{
 "cells": [
  {
   "cell_type": "code",
   "execution_count": 3,
   "id": "5111c8e2-b23a-4a57-8106-2f1f6adcd7e8",
   "metadata": {},
   "outputs": [],
   "source": [
    "from textblob import TextBlob"
   ]
  },
  {
   "cell_type": "code",
   "execution_count": 14,
   "id": "5fafcddc-f8b7-4350-ae70-c95a66673f08",
   "metadata": {},
   "outputs": [],
   "source": [
    "article_1=\"\"\"When Sarvepalli Radhakrishnan demitted office as India’s head of state in 1967, he returned to his own home, books and Carnatic music in the city he regarded as his own – Madras. Among the numerous people welcoming him back in their midst was Chakravarti Rajagopalachari. One might have expected Rajaji to say something in praise of Radhakrishnan through apt quotations from the Ramayana or the Mahabharata or the Tirukkural. But no, he said praise of the man was unnecessary. And the unpredictable in him chose to say so, in his ‘Dear Reader’ column in the journal Swarajya, through William Shakespeare’s  King John, Act 4, Scene 2: To gild refined gold, to paint the lily/ To throw a perfume on the violet/ To smooth the ice, or add another hue/ Unto the rainbow, or with taper-light/ To seek the beauteous eye of heaven to garnish/ Is wasteful and ridiculous excess.He asked for that issue of  Swarajya to be taken to the Radhakrishnan home and read out to the great man. But he asked the bearer to first rehearse the passage. “To gild refined gold…” went the trainee, pronouncing ‘refined’ as it is normally pronounced. “Not so…,” Rajaji corrected him. “In poetic declamation pronunciation changes… Say ‘refi ned’ not as in find but as in fed…say ‘refined.’” Perfected thus, the poetic message was relayed to its addressee.Journey with the Bard\n",
    "Shakespeare and Rajaji went back a long way. We may assume that Rajagopalachari as a student had been introduced to the all-time great poet and playwright by John Guthrie Tait, the Scots professor in Bangalore’s Central College, where the young man studied for his matriculation and from where, in 1896, he wrote his B.A. examination. Shakespeare entered his mind scape early to stay there for ever.\n",
    "We find Rajagopalachari, the lawyer-turned-nationalist, addressing Gandhi in letters by 1920 as “My dearest Master”, not a form of address to be expected from a 42-year-old for a 51-year-old. In a letter that he wrote to Gandhi in June 1920, upbraiding his ‘Master’ for what the follower thought was a grievous error, he wrote “…My dearest Master – allow me to be harsh, I speak with tears in my eyes – you have no right to act thus…” Upon the ‘Master’ heeding his stinging criticism and advice, the follower sent him a wire: “Words fail me altogether. I hope you have pardoned me.” Somewhere in his sub-conscious he may have gleamed the words of the Steward in All’s Well That Ends Well, Act 3, Scene 4: Write, write, that from the bloody course of war/ My dearest master, your dear son, may hie:/ Bless him at home in peace, whilst I from far/ His name with zealous fervour sanctify: His taken labours bid him me forgive…In 1921, with the movement for ‘non-co-operation’ in full swing, Rajaji was jailed, along with the whole of the Congress’ leadership and innumerable volunteers. As the key turned to close his cell at Vellore, on December 21, 1921, the sun was setting. Rajaji had with him, apart from a few clothes, a few books – the Bible, the Kural, a work on Socrates, the Mahabharata, Robinson Crusoe and a volume of Shakespeare. Also, pitch darkness. Some three days later, a fresh arrival, Mahomed Ghouse, brought a candle and, on Rajaji’s fourth night in the cell, gave it to him. “Never did I see a candle give such quiet holy light before,” Rajaji wrote in a diary he started to write there, in that first imprisonment of his. It was Christmas eve. It is tempting to imagine that a line from The Merchant of Venice glowed in that light cast by a Muslim fellow-prisoner’s gift of a candle on Yuletide to his Sri Vaishnavite jail-mate: “How far that little candle throws his beams! So shines a good deed in a weary world.” The weary world was with him through the decades that followed, in and out of prison, in and out of public office, in and rarely out of domestic sorrows. The little candlelight of Shakespeare’s plays and sonnets kept him company throughout.A compilation of excerpts\n",
    "Rajaji’s brief tenure as Governor General gave him much to grapple with, but also much to cherish. It brought him the welcome company of a great library in Government House, though without the time needed to read its fabulous holdings. The chance of that privileged position did him another small but, as it turns out, not so small and good turn. It placed in his hands a leather-bound notebook bearing the new tenant’s monogram ‘CR’. This notebook, coming with finger tabs containing the English alphabet, encouraged him to add a dimension to ‘his’ Shakespeare. Pasting a rectangular piece of paper on the cover that simply said ‘Shakespeare’, he started a practice that was to last many years – a compilation in his hand of excerpts from the Bard of Avon, in alphabetic order. A keyword in the excerpt determining the alphabet section selected, he filled its pages with some hundred and more entries over at least two and a half decades. He gave after each entry the name of the play, and the number of the Act and Scene, and sometimes the identity of the speaker — for example, “Just death, kind umpire of men’s miseries – Mortimer in Henry VI (1), II, 5.”Rajaji’s Shakespeare notebook entries include ‘less known’ Shakespeare quotations, and some which may strike the lay reader as ‘never read before’. They are a chiaroscuro plate of Rajaji’s brooding intellect. They mirror his mind.\n",
    "Some examples:\n",
    "A: When sapless age and weak unable limbs should bring thy father to his drooping chair – Henry VI (1), IV, 5.When two authorities are up, neither supreme, how soon confusion may enter ‘twixt the gap of both and take the one by the other – Coriolanus, III, I.B: The fox barks not when he would steal the lamb – Henry VI (2), III, 1.The near in blood the nearer bloody – Macbeth, II, 3.C: When clouds appear, wise men put on their clothes –  Richard III, II, 3.D: A staff is quickly found to beat a dog –  Henry VI (2), III, 1.E: O, that men’s ears should be to counsel deaf, but not to flattery – Timon of Athens, I, 2.I found the following Shakespeare quotations in Rajaji’s notebook chiming with his own deep understanding of human follies, human caprice, human nature:\n",
    "Smiling pick-thanks and base news-mongers – Henry IV, III, 2.Time is a great-sized monster of ingratitudes – Troilus and Cressida, II, 2.Young blood doth not obey an old decree – Love’s Labours Lost, IV, 3.Madness in great ones must not unwatched go – Hamlet, III, 1.A dog is obeyed in office – King Lear, IV, 6.That young start-up – Much Ado About Nothing, I, 3.The following from his ‘C’ page seems as if it is meant for King Charles III as he awaits his coronation: My crown is in my heart, not on my head/ Not deck’d with diamonds and Indian stones/ Nor to be seen; my crown is called content/ A crown it is that seldom Kings enjoy – Henry VI (3), III, I.As life ebbed away from the 94-year-old, exactly 50 years ago on Christmas day, he said: “I am happy”. On this Christmas eve, Mahomed Ghouse’s Christmas-eve gift to him of a candle to beam a light in his pitch-dark cell needs recalling. One may imagine Rajaji lighting that candle with thoughts that would become his Tamil song Kurai Onrum Illai (No regrets have I).The following from his ‘D’ page in the notebook can close this reflection: They say the tongues of dying men enforce attention like deep harmony – King Richard II, II, \"\"\""
   ]
  },
  {
   "cell_type": "code",
   "execution_count": 27,
   "id": "5d3779fd-4540-4c8e-8853-6d0457904254",
   "metadata": {},
   "outputs": [],
   "source": [
    "def sentiment_article(article):\n",
    "    news=TextBlob(article)\n",
    "    for sentence in news.sentences:\n",
    "        print(sentence.sentiment)\n",
    "    print(\"overall senti : \", news.sentiment)"
   ]
  },
  {
   "cell_type": "code",
   "execution_count": 28,
   "id": "ec9d5c7e-2494-4f2f-a10c-611b2f586c7d",
   "metadata": {},
   "outputs": [
    {
     "name": "stdout",
     "output_type": "stream",
     "text": [
      "Sentiment(polarity=0.6, subjectivity=1.0)\n",
      "Sentiment(polarity=0.0, subjectivity=0.25)\n",
      "Sentiment(polarity=0.25, subjectivity=0.7)\n",
      "Sentiment(polarity=-0.4, subjectivity=0.9)\n",
      "Sentiment(polarity=0.17500000000000002, subjectivity=0.8125)\n",
      "Sentiment(polarity=0.25, subjectivity=0.3333333333333333)\n",
      "Sentiment(polarity=0.15, subjectivity=0.6499999999999999)\n",
      "Sentiment(polarity=0.0, subjectivity=0.0)\n",
      "Sentiment(polarity=0.175, subjectivity=0.475)\n",
      "Sentiment(polarity=0.3, subjectivity=0.4666666666666666)\n",
      "Sentiment(polarity=0.0, subjectivity=0.0)\n",
      "Sentiment(polarity=0.1, subjectivity=0.3)\n",
      "Sentiment(polarity=-0.1, subjectivity=0.4)\n",
      "Sentiment(polarity=-0.4107142857142857, subjectivity=0.6339285714285714)\n",
      "Sentiment(polarity=-0.08333333333333336, subjectivity=0.6166666666666667)\n",
      "Sentiment(polarity=0.0, subjectivity=1.0)\n",
      "Sentiment(polarity=-0.2, subjectivity=0.1)\n",
      "Sentiment(polarity=0.0, subjectivity=0.0)\n",
      "Sentiment(polarity=0.09999999999999999, subjectivity=0.16666666666666666)\n",
      "Sentiment(polarity=0.1625, subjectivity=0.4666666666666666)\n",
      "Sentiment(polarity=0.0, subjectivity=0.0)\n",
      "Sentiment(polarity=0.08854166666666667, subjectivity=0.7333333333333334)\n",
      "Sentiment(polarity=0.25, subjectivity=0.41666666666666674)\n",
      "Sentiment(polarity=0.05250000000000001, subjectivity=0.3466666666666666)\n",
      "Sentiment(polarity=0.6666666666666666, subjectivity=0.8833333333333333)\n",
      "Sentiment(polarity=0.06666666666666665, subjectivity=0.46666666666666673)\n",
      "Sentiment(polarity=0.13636363636363635, subjectivity=0.45454545454545453)\n",
      "Sentiment(polarity=0.0, subjectivity=0.0)\n",
      "Sentiment(polarity=0.16666666666666666, subjectivity=0.30793650793650795)\n",
      "Sentiment(polarity=0.10833333333333336, subjectivity=0.49166666666666664)\n",
      "Sentiment(polarity=0.21666666666666667, subjectivity=0.48333333333333334)\n",
      "Sentiment(polarity=0.0, subjectivity=0.0)\n",
      "Sentiment(polarity=0.0, subjectivity=0.0)\n",
      "Sentiment(polarity=0.09722222222222221, subjectivity=0.49999999999999983)\n",
      "Sentiment(polarity=0.4, subjectivity=0.7)\n",
      "Sentiment(polarity=0.016666666666666666, subjectivity=0.23333333333333336)\n",
      "overall senti :  Sentiment(polarity=0.11116282805735932, subjectivity=0.5036187770562771)\n"
     ]
    }
   ],
   "source": [
    "sentiment_article(article_1)"
   ]
  }
 ],
 "metadata": {
  "kernelspec": {
   "display_name": "Python 3 (ipykernel)",
   "language": "python",
   "name": "python3"
  },
  "language_info": {
   "codemirror_mode": {
    "name": "ipython",
    "version": 3
   },
   "file_extension": ".py",
   "mimetype": "text/x-python",
   "name": "python",
   "nbconvert_exporter": "python",
   "pygments_lexer": "ipython3",
   "version": "3.9.7"
  }
 },
 "nbformat": 4,
 "nbformat_minor": 5
}
